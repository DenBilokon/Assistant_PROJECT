{
  "nbformat": 4,
  "nbformat_minor": 0,
  "metadata": {
    "colab": {
      "provenance": [],
      "toc_visible": true,
      "authorship_tag": "ABX9TyMTIIQ7xGA1VUjJ+P4W6ySu"
    },
    "kernelspec": {
      "name": "python3",
      "display_name": "Python 3"
    },
    "language_info": {
      "name": "python"
    }
  },
  "cells": [
    {
      "cell_type": "markdown",
      "source": [
        "1. Створіть одновимірний масив (вектор) з першими 10-ма натуральними числами та виведіть його значення."
      ],
      "metadata": {
        "id": "rXvOZXEhHGZp"
      }
    },
    {
      "cell_type": "code",
      "source": [
        "import numpy as np\n",
        "\n",
        "a = np.arange(10)\n",
        "\n",
        "print(a)"
      ],
      "metadata": {
        "id": "ieaB_KKfHjnt",
        "colab": {
          "base_uri": "https://localhost:8080/"
        },
        "outputId": "c17ded16-d234-4245-cc9a-78f0069c6787"
      },
      "execution_count": 3,
      "outputs": [
        {
          "output_type": "stream",
          "name": "stdout",
          "text": [
            "[0 1 2 3 4 5 6 7 8 9]\n"
          ]
        }
      ]
    },
    {
      "cell_type": "markdown",
      "source": [
        "2. Створіть двовимірний масив (матрицю) розміром 3x3, заповніть його нулями та виведіть його значення.\n"
      ],
      "metadata": {
        "id": "aIFibq9R7o8l"
      }
    },
    {
      "cell_type": "code",
      "source": [
        "a = np.zeros((3, 3), dtype=int)\n",
        "print(a)"
      ],
      "metadata": {
        "colab": {
          "base_uri": "https://localhost:8080/"
        },
        "id": "4GTgrtaH7sPM",
        "outputId": "9a74bdec-9d3b-45cd-ba05-ca430533ba8f"
      },
      "execution_count": 9,
      "outputs": [
        {
          "output_type": "stream",
          "name": "stdout",
          "text": [
            "[[0 0 0]\n",
            " [0 0 0]\n",
            " [0 0 0]]\n"
          ]
        }
      ]
    },
    {
      "cell_type": "markdown",
      "source": [
        "3. Створіть масив розміром 5x5, заповніть його випадковими цілими числами в діапазоні від 1 до 10 та виведіть його значення."
      ],
      "metadata": {
        "id": "1jaWWFhD9MCx"
      }
    },
    {
      "cell_type": "code",
      "source": [
        "a = np.random.randint(1, 10, (5,5), dtype=int)\n",
        "print(a)"
      ],
      "metadata": {
        "colab": {
          "base_uri": "https://localhost:8080/"
        },
        "id": "wROI7Uaa9N9s",
        "outputId": "14398128-ff5f-4b8a-c1b6-877839cf6c35"
      },
      "execution_count": 18,
      "outputs": [
        {
          "output_type": "stream",
          "name": "stdout",
          "text": [
            "[[ 4  2  5  6  7]\n",
            " [ 3  9  1  3  4]\n",
            " [ 6  2  8 10  4]\n",
            " [ 9  7  8  2  5]\n",
            " [ 7 10  5  8  3]]\n"
          ]
        }
      ]
    },
    {
      "cell_type": "markdown",
      "source": [
        "4. Створіть масив розміром 4x4, заповніть його випадковими дійсними числами в діапазоні від 0 до 1 та виведіть його значення."
      ],
      "metadata": {
        "id": "YG8ETUcy-4K9"
      }
    },
    {
      "cell_type": "code",
      "source": [
        "a = np.random.random((4,4))\n",
        "print(a)"
      ],
      "metadata": {
        "colab": {
          "base_uri": "https://localhost:8080/"
        },
        "id": "_mClHjBI-7lr",
        "outputId": "66fbe2c1-0d03-4d1c-f2fe-62b75c772a09"
      },
      "execution_count": 22,
      "outputs": [
        {
          "output_type": "stream",
          "name": "stdout",
          "text": [
            "[[0.36404665 0.38684217 0.2102673  0.50521407]\n",
            " [0.75434651 0.18651026 0.86040863 0.09443764]\n",
            " [0.28211722 0.30795697 0.68509199 0.1164458 ]\n",
            " [0.06077979 0.70079042 0.68100588 0.76835654]]\n"
          ]
        }
      ]
    },
    {
      "cell_type": "markdown",
      "source": [
        "5. Створіть два одновимірних масиви розміром 5, заповніть їх випадковими цілими числами в діапазоні від 1 до 10 та виконайте на них поелементні операції додавання, віднімання та множення."
      ],
      "metadata": {
        "id": "nmPcVGep_uS7"
      }
    },
    {
      "cell_type": "code",
      "source": [
        "a = np.random.randint(1, 10, (5,), dtype = int)\n",
        "b = np.random.randint(1, 10, (5,), dtype = int)\n",
        "print(a)\n",
        "print(b)\n",
        "print(a+b)\n",
        "print(a-b)\n",
        "print(a*b)\n"
      ],
      "metadata": {
        "colab": {
          "base_uri": "https://localhost:8080/"
        },
        "id": "nRAfvhWXAP-O",
        "outputId": "b097ca86-0f4b-4094-f1ca-62c9d6717000"
      },
      "execution_count": 28,
      "outputs": [
        {
          "output_type": "stream",
          "name": "stdout",
          "text": [
            "[5 1 3 2 6]\n",
            "[7 8 9 6 4]\n",
            "[12  9 12  8 10]\n",
            "[-2 -7 -6 -4  2]\n",
            "[35  8 27 12 24]\n"
          ]
        }
      ]
    },
    {
      "cell_type": "markdown",
      "source": [
        "6. Створіть два вектори розміром 7, заповніть довільними числами та знайдіть їх скалярний добуток."
      ],
      "metadata": {
        "id": "bKWUHOA8BYW9"
      }
    },
    {
      "cell_type": "code",
      "source": [
        "a = np.random.randint(1, 10, (5,), dtype = int)\n",
        "b = np.random.randint(1, 10, (5,), dtype = int)\n",
        "\n",
        "print(a.dot(b))"
      ],
      "metadata": {
        "colab": {
          "base_uri": "https://localhost:8080/"
        },
        "id": "AYbKYpBxBT4U",
        "outputId": "b3e5d7a9-ae92-4e47-9bd9-79a787692ce0"
      },
      "execution_count": 69,
      "outputs": [
        {
          "output_type": "stream",
          "name": "stdout",
          "text": [
            "147\n"
          ]
        }
      ]
    },
    {
      "cell_type": "markdown",
      "source": [
        "7. Створіть дві матриці розміром 2x2 та 2x3, заповніть їх випадковими цілими числами в діапазоні від 1 до 10 та перемножте їх між собою."
      ],
      "metadata": {
        "id": "H9INDNgIBr1L"
      }
    },
    {
      "cell_type": "code",
      "source": [
        "a = np.random.randint(1, 10, (2,2), dtype = int)\n",
        "b = np.random.randint(1, 10, (2,3), dtype = int)\n",
        "\n",
        "print(a.dot(b))"
      ],
      "metadata": {
        "colab": {
          "base_uri": "https://localhost:8080/"
        },
        "id": "msHl-8R2Bt6Q",
        "outputId": "4bf8f5ec-bcee-47cd-a52e-2d149a0569a7"
      },
      "execution_count": 68,
      "outputs": [
        {
          "output_type": "stream",
          "name": "stdout",
          "text": [
            "[[30 12  9]\n",
            " [23  9  7]]\n"
          ]
        }
      ]
    },
    {
      "cell_type": "markdown",
      "source": [
        "8. Створіть матрицю розміром 3x3, заповніть її випадковими цілими числами в діапазоні від 1 до 10 та знайдіть її обернену матрицю."
      ],
      "metadata": {
        "id": "QB-WOypRClXY"
      }
    },
    {
      "cell_type": "code",
      "source": [
        "a = np.random.randint(1, 10, (3,3), dtype = int)\n",
        "print(np.linalg.inv(a))\n"
      ],
      "metadata": {
        "colab": {
          "base_uri": "https://localhost:8080/"
        },
        "id": "-ZeLiLPyCnZ3",
        "outputId": "7a8ffe8f-41eb-4c4e-d9d3-4b0686b3592e"
      },
      "execution_count": 47,
      "outputs": [
        {
          "output_type": "stream",
          "name": "stdout",
          "text": [
            "[[-0.29032258 -0.12903226  0.38709677]\n",
            " [ 0.24516129  0.26451613 -0.39354839]\n",
            " [ 0.03870968 -0.11612903  0.1483871 ]]\n"
          ]
        }
      ]
    },
    {
      "cell_type": "markdown",
      "source": [
        "9. Створіть матрицю розміром 4x4, заповніть її випадковими дійсними числами в діапазоні від 0 до 1 та транспонуйте її."
      ],
      "metadata": {
        "id": "9BKwp0OoDRO3"
      }
    },
    {
      "cell_type": "code",
      "source": [
        "a = np.random.random((4,4))\n",
        "print(a.T)"
      ],
      "metadata": {
        "colab": {
          "base_uri": "https://localhost:8080/"
        },
        "id": "sqOWmUJHDT4R",
        "outputId": "fb085def-5978-4f4c-a3d4-0308130a088c"
      },
      "execution_count": 67,
      "outputs": [
        {
          "output_type": "stream",
          "name": "stdout",
          "text": [
            "[[0.02668218 0.18723461 0.46569455 0.70217069]\n",
            " [0.29100528 0.97893994 0.15474352 0.12968963]\n",
            " [0.87348101 0.79724353 0.93396135 0.85024781]\n",
            " [0.77362124 0.77048916 0.48005918 0.17863675]]\n"
          ]
        }
      ]
    },
    {
      "cell_type": "markdown",
      "source": [
        "10. Створіть матрицю розміром 3x4 та вектор розміром 4, заповніть їх випадковими цілими числами в діапазоні від 1 до 10 та перемножте матрицю на вектор."
      ],
      "metadata": {
        "id": "JB9KJZ5BDjiY"
      }
    },
    {
      "cell_type": "code",
      "source": [
        "a = np.random.randint(1, 10, (3,4), dtype=int)\n",
        "b = np.random.randint(1, 10, (4), dtype=int)\n",
        "\n",
        "print(a@b)"
      ],
      "metadata": {
        "colab": {
          "base_uri": "https://localhost:8080/"
        },
        "id": "eZiSOohGD5xO",
        "outputId": "4bf69165-38ac-4a61-8601-e3ee43fdb111"
      },
      "execution_count": 66,
      "outputs": [
        {
          "output_type": "stream",
          "name": "stdout",
          "text": [
            "[ 51  99 107]\n"
          ]
        }
      ]
    },
    {
      "cell_type": "markdown",
      "source": [
        "11. Створіть матрицю розміром 2x3 та вектор розміром 3, заповніть їх випадковими дійсними числами в діапазоні від 0 до 1 та перемножте матрицю на вектор."
      ],
      "metadata": {
        "id": "Zyn5XOJhIrOl"
      }
    },
    {
      "cell_type": "code",
      "source": [
        "a = np.random.randint(1, 10, (2,3), dtype=int)\n",
        "b = np.random.randint(1, 10, (3), dtype=int)\n",
        "\n",
        "print(a@b)"
      ],
      "metadata": {
        "colab": {
          "base_uri": "https://localhost:8080/"
        },
        "id": "E9Qo3N_RIurS",
        "outputId": "c9ed3cbd-8155-4a2e-b9d4-d1bc9f9e6d67"
      },
      "execution_count": 65,
      "outputs": [
        {
          "output_type": "stream",
          "name": "stdout",
          "text": [
            "[ 42 106]\n"
          ]
        }
      ]
    },
    {
      "cell_type": "markdown",
      "source": [
        "12. Створіть дві матриці розміром 2x2, заповніть їх випадковими цілими числами в діапазоні від 1 до 10 та виконайте їхнє поелементне множення."
      ],
      "metadata": {
        "id": "EPq-57P4JFl-"
      }
    },
    {
      "cell_type": "code",
      "source": [
        "a = np.random.randint(1, 10, (2,2), dtype=int)\n",
        "b = np.random.randint(1, 10, (2,2), dtype=int)\n",
        "\n",
        "print(a*b)"
      ],
      "metadata": {
        "colab": {
          "base_uri": "https://localhost:8080/"
        },
        "id": "5jgSe0nFJKqg",
        "outputId": "9806767a-8807-47fe-fae9-da128dd07381"
      },
      "execution_count": 64,
      "outputs": [
        {
          "output_type": "stream",
          "name": "stdout",
          "text": [
            "[[32 24]\n",
            " [25 12]]\n"
          ]
        }
      ]
    },
    {
      "cell_type": "markdown",
      "source": [
        "13. Створіть дві матриці розміром 2x2, заповніть їх випадковими цілими числами в діапазоні від 1 до 10 та знайдіть їх добуток."
      ],
      "metadata": {
        "id": "7X-weQ75Jjhv"
      }
    },
    {
      "cell_type": "code",
      "source": [
        "a = np.random.randint(1, 10, (2,2), dtype=int)\n",
        "b = np.random.randint(1, 10, (2,2), dtype=int)\n",
        "\n",
        "print(a@b)"
      ],
      "metadata": {
        "colab": {
          "base_uri": "https://localhost:8080/"
        },
        "id": "rD-1wMOOJpQR",
        "outputId": "28797d68-0874-487c-f594-50485097b1b1"
      },
      "execution_count": 73,
      "outputs": [
        {
          "output_type": "stream",
          "name": "stdout",
          "text": [
            "[[49 32]\n",
            " [26 20]]\n"
          ]
        }
      ]
    },
    {
      "cell_type": "markdown",
      "source": [
        "14. Створіть матрицю розміром 5x5, заповніть її випадковими цілими числами в діапазоні від 1 до 100 та знайдіть суму елементів матриці."
      ],
      "metadata": {
        "id": "UVgicA_QJ6cJ"
      }
    },
    {
      "cell_type": "code",
      "source": [
        "a = np.random.randint(1, 100, (5,5), dtype=int)\n",
        "print(np.sum(a))"
      ],
      "metadata": {
        "colab": {
          "base_uri": "https://localhost:8080/"
        },
        "id": "xQeUmIzNJ8a-",
        "outputId": "ba5f35d0-47e2-434c-f55a-d5748dc67e29"
      },
      "execution_count": 77,
      "outputs": [
        {
          "output_type": "stream",
          "name": "stdout",
          "text": [
            "1086\n"
          ]
        }
      ]
    },
    {
      "cell_type": "markdown",
      "source": [
        "15. Створіть дві матриці розміром 4x4, заповніть їх випадковими цілими числами в діапазоні від 1 до 10 та знайдіть їхню різницю."
      ],
      "metadata": {
        "id": "7kS12Xd1KU87"
      }
    },
    {
      "cell_type": "code",
      "source": [
        "a = np.random.randint(1, 10, (4,4), dtype=int)\n",
        "b = np.random.randint(1, 10, (4,4), dtype=int)\n",
        "print(np.subtract(a,b))"
      ],
      "metadata": {
        "colab": {
          "base_uri": "https://localhost:8080/"
        },
        "id": "8L3OkA00KWoQ",
        "outputId": "165c3231-cc1e-42a3-b75d-2b241318aa9f"
      },
      "execution_count": 78,
      "outputs": [
        {
          "output_type": "stream",
          "name": "stdout",
          "text": [
            "[[-1  1 -7 -6]\n",
            " [ 4  2 -5 -1]\n",
            " [-3 -1 -4 -1]\n",
            " [ 3  2 -7 -6]]\n"
          ]
        }
      ]
    },
    {
      "cell_type": "markdown",
      "source": [
        "16. Створіть матрицю розміром 3x3, заповніть її випадковими дійсними числами в діапазоні від 0 до 1 та знайдіть вектор-стовпчик, що містить суму елементів кожного рядка матриці."
      ],
      "metadata": {
        "id": "CsEhA2EMK36h"
      }
    },
    {
      "cell_type": "code",
      "source": [
        "a = np.random.random((3,3))\n",
        "b = np.array([np.sum(a[:1]), np.sum(a[1:2]), np.sum(a[2:])])\n",
        "c = np.sum(a, axis=1)\n",
        "print(b)\n",
        "print(c)"
      ],
      "metadata": {
        "colab": {
          "base_uri": "https://localhost:8080/"
        },
        "id": "zFPsPmaxK-Y4",
        "outputId": "e2d58a8a-7560-4e1e-9354-a21d331520aa"
      },
      "execution_count": 101,
      "outputs": [
        {
          "output_type": "stream",
          "name": "stdout",
          "text": [
            "[1.75732995 1.08970638 2.27921007]\n",
            "[1.75732995 1.08970638 2.27921007]\n"
          ]
        }
      ]
    },
    {
      "cell_type": "markdown",
      "source": [
        "17. Створіть матрицю розміром 3x4 з довільними цілими числами і створінь матрицю з квадратами цих чисел."
      ],
      "metadata": {
        "id": "wRPd33XXMYJh"
      }
    },
    {
      "cell_type": "code",
      "source": [
        "a = np.random.randint(1, 10, (3,4), dtype=int)\n",
        "print(np.square(a))\n",
        "print(np.power(a, 2))"
      ],
      "metadata": {
        "colab": {
          "base_uri": "https://localhost:8080/"
        },
        "id": "8cOYgBinMaRj",
        "outputId": "de8b3de1-b18b-40bc-f889-fee7e0b5a289"
      },
      "execution_count": 95,
      "outputs": [
        {
          "output_type": "stream",
          "name": "stdout",
          "text": [
            "[[16 64 49 36]\n",
            " [36 49  9 49]\n",
            " [64  4 49 81]]\n",
            "[[16 64 49 36]\n",
            " [36 49  9 49]\n",
            " [64  4 49 81]]\n"
          ]
        }
      ]
    },
    {
      "cell_type": "markdown",
      "source": [
        "18. Створіть вектор розміром 4, заповніть його випадковими цілими числами в діапазоні від 1 до 50 та знайдіть вектор з квадратними коренями цих чисел."
      ],
      "metadata": {
        "id": "S9dqT9a5OXw9"
      }
    },
    {
      "cell_type": "code",
      "source": [
        "a = np.random.randint(1, 50, (4), dtype=int)\n",
        "print(np.sqrt(a))\n",
        "print(np.power(a, 1/2))"
      ],
      "metadata": {
        "colab": {
          "base_uri": "https://localhost:8080/"
        },
        "id": "AnnrjaLXObBh",
        "outputId": "f5b8d9b5-e8e1-44e0-a343-6f6a4e3f2be9"
      },
      "execution_count": 100,
      "outputs": [
        {
          "output_type": "stream",
          "name": "stdout",
          "text": [
            "[6.92820323 6.32455532 4.79583152 4.35889894]\n",
            "[6.92820323 6.32455532 4.79583152 4.35889894]\n"
          ]
        }
      ]
    }
  ]
}